{
 "cells": [
  {
   "cell_type": "markdown",
   "id": "15e7d959",
   "metadata": {
    "toc": true
   },
   "source": [
    "<h1>Table of Contents<span class=\"tocSkip\"></span></h1>\n",
    "<div class=\"toc\"><ul class=\"toc-item\"><li><span><a href=\"#different-number-of-hidden-units\" data-toc-modified-id=\"different-number-of-hidden-units-1\"><span class=\"toc-item-num\">1&nbsp;&nbsp;</span>different number of hidden units</a></span></li><li><span><a href=\"#DIfferent-number-of-maxlens\" data-toc-modified-id=\"DIfferent-number-of-maxlens-2\"><span class=\"toc-item-num\">2&nbsp;&nbsp;</span>DIfferent number of maxlens</a></span></li><li><span><a href=\"#Number-of-blocks\" data-toc-modified-id=\"Number-of-blocks-3\"><span class=\"toc-item-num\">3&nbsp;&nbsp;</span>Number of blocks</a></span></li><li><span><a href=\"#Number-of-epochs\" data-toc-modified-id=\"Number-of-epochs-4\"><span class=\"toc-item-num\">4&nbsp;&nbsp;</span>Number of epochs</a></span></li><li><span><a href=\"#Number-of-heads\" data-toc-modified-id=\"Number-of-heads-5\"><span class=\"toc-item-num\">5&nbsp;&nbsp;</span>Number of heads</a></span></li><li><span><a href=\"#CutOff\" data-toc-modified-id=\"CutOff-6\"><span class=\"toc-item-num\">6&nbsp;&nbsp;</span>CutOff</a></span></li><li><span><a href=\"#Training-curve\" data-toc-modified-id=\"Training-curve-7\"><span class=\"toc-item-num\">7&nbsp;&nbsp;</span>Training curve</a></span></li></ul></div>"
   ]
  },
  {
   "cell_type": "code",
   "execution_count": 4,
   "id": "37019de5",
   "metadata": {},
   "outputs": [],
   "source": [
    "import numpy as np\n",
    "import pandas as pd\n",
    "import matplotlib.pyplot as plt\n",
    "import seaborn as sns"
   ]
  },
  {
   "cell_type": "markdown",
   "id": "5798eb88",
   "metadata": {},
   "source": [
    "# different number of hidden units"
   ]
  },
  {
   "cell_type": "code",
   "execution_count": 5,
   "id": "1a06706a",
   "metadata": {},
   "outputs": [],
   "source": [
    "df_hidden_units = pd.read_csv(\"Experiment with hidden_units.csv\")"
   ]
  },
  {
   "cell_type": "code",
   "execution_count": 6,
   "id": "0fc65183",
   "metadata": {},
   "outputs": [
    {
     "data": {
      "text/plain": [
       "<AxesSubplot:xlabel='hidden_unit'>"
      ]
     },
     "execution_count": 6,
     "metadata": {},
     "output_type": "execute_result"
    },
    {
     "data": {
      "image/png": "[encoded data removed]",
      "text/plain": [
       "<Figure size 432x288 with 1 Axes>"
      ]
     },
     "metadata": {
      "needs_background": "light"
     },
     "output_type": "display_data"
    }
   ],
   "source": [
    "sns.lineplot(data=df_hidden_units.set_index('hidden_unit').iloc[:,3:])"
   ]
  },
  {
   "cell_type": "markdown",
   "id": "e6e5f3f7",
   "metadata": {},
   "source": [
    "# DIfferent number of maxlens"
   ]
  },
  {
   "cell_type": "code",
   "execution_count": 7,
   "id": "505b0009",
   "metadata": {},
   "outputs": [
    {
     "data": {
      "text/html": [
       "<div>\n",
       "<style scoped>\n",
       "    .dataframe tbody tr th:only-of-type {\n",
       "        vertical-align: middle;\n",
       "    }\n",
       "\n",
       "    .dataframe tbody tr th {\n",
       "        vertical-align: top;\n",
       "    }\n",
       "\n",
       "    .dataframe thead th {\n",
       "        text-align: right;\n",
       "    }\n",
       "</style>\n",
       "<table border=\"1\" class=\"dataframe\">\n",
       "  <thead>\n",
       "    <tr style=\"text-align: right;\">\n",
       "      <th></th>\n",
       "      <th>Unnamed: 0</th>\n",
       "      <th>maxlen</th>\n",
       "      <th>epoch</th>\n",
       "      <th>validation_NDCG</th>\n",
       "      <th>validation_hit</th>\n",
       "      <th>test_NDCG</th>\n",
       "      <th>test_hit</th>\n",
       "    </tr>\n",
       "  </thead>\n",
       "  <tbody>\n",
       "    <tr>\n",
       "      <th>0</th>\n",
       "      <td>0</td>\n",
       "      <td>2</td>\n",
       "      <td>50</td>\n",
       "      <td>0.288099</td>\n",
       "      <td>0.4533</td>\n",
       "      <td>0.240174</td>\n",
       "      <td>0.4161</td>\n",
       "    </tr>\n",
       "    <tr>\n",
       "      <th>1</th>\n",
       "      <td>0</td>\n",
       "      <td>5</td>\n",
       "      <td>50</td>\n",
       "      <td>0.292511</td>\n",
       "      <td>0.4691</td>\n",
       "      <td>0.236476</td>\n",
       "      <td>0.4083</td>\n",
       "    </tr>\n",
       "    <tr>\n",
       "      <th>2</th>\n",
       "      <td>0</td>\n",
       "      <td>10</td>\n",
       "      <td>50</td>\n",
       "      <td>0.298396</td>\n",
       "      <td>0.4593</td>\n",
       "      <td>0.231905</td>\n",
       "      <td>0.4064</td>\n",
       "    </tr>\n",
       "    <tr>\n",
       "      <th>3</th>\n",
       "      <td>0</td>\n",
       "      <td>20</td>\n",
       "      <td>50</td>\n",
       "      <td>0.292254</td>\n",
       "      <td>0.4612</td>\n",
       "      <td>0.228110</td>\n",
       "      <td>0.3939</td>\n",
       "    </tr>\n",
       "    <tr>\n",
       "      <th>4</th>\n",
       "      <td>0</td>\n",
       "      <td>40</td>\n",
       "      <td>50</td>\n",
       "      <td>0.291352</td>\n",
       "      <td>0.4634</td>\n",
       "      <td>0.227143</td>\n",
       "      <td>0.3943</td>\n",
       "    </tr>\n",
       "    <tr>\n",
       "      <th>5</th>\n",
       "      <td>0</td>\n",
       "      <td>60</td>\n",
       "      <td>50</td>\n",
       "      <td>0.293950</td>\n",
       "      <td>0.4577</td>\n",
       "      <td>0.210187</td>\n",
       "      <td>0.3978</td>\n",
       "    </tr>\n",
       "    <tr>\n",
       "      <th>6</th>\n",
       "      <td>0</td>\n",
       "      <td>80</td>\n",
       "      <td>50</td>\n",
       "      <td>0.287155</td>\n",
       "      <td>0.4656</td>\n",
       "      <td>0.231363</td>\n",
       "      <td>0.3965</td>\n",
       "    </tr>\n",
       "    <tr>\n",
       "      <th>7</th>\n",
       "      <td>0</td>\n",
       "      <td>100</td>\n",
       "      <td>50</td>\n",
       "      <td>0.293238</td>\n",
       "      <td>0.4673</td>\n",
       "      <td>0.234628</td>\n",
       "      <td>0.4027</td>\n",
       "    </tr>\n",
       "  </tbody>\n",
       "</table>\n",
       "</div>"
      ],
      "text/plain": [
       "   Unnamed: 0  maxlen  epoch  validation_NDCG  validation_hit  test_NDCG  \\\n",
       "0           0       2     50         0.288099          0.4533   0.240174   \n",
       "1           0       5     50         0.292511          0.4691   0.236476   \n",
       "2           0      10     50         0.298396          0.4593   0.231905   \n",
       "3           0      20     50         0.292254          0.4612   0.228110   \n",
       "4           0      40     50         0.291352          0.4634   0.227143   \n",
       "5           0      60     50         0.293950          0.4577   0.210187   \n",
       "6           0      80     50         0.287155          0.4656   0.231363   \n",
       "7           0     100     50         0.293238          0.4673   0.234628   \n",
       "\n",
       "   test_hit  \n",
       "0    0.4161  \n",
       "1    0.4083  \n",
       "2    0.4064  \n",
       "3    0.3939  \n",
       "4    0.3943  \n",
       "5    0.3978  \n",
       "6    0.3965  \n",
       "7    0.4027  "
      ]
     },
     "execution_count": 7,
     "metadata": {},
     "output_type": "execute_result"
    }
   ],
   "source": [
    "df_maxlens = pd.read_csv(\"Experiment with maxlens (with other values).csv\")\n",
    "df_maxlens"
   ]
  },
  {
   "cell_type": "code",
   "execution_count": 8,
   "id": "e4c2d63b",
   "metadata": {},
   "outputs": [
    {
     "data": {
      "text/plain": [
       "(0.0, 0.6)"
      ]
     },
     "execution_count": 8,
     "metadata": {},
     "output_type": "execute_result"
    },
    {
     "data": {
      "image/png": "[encoded data removed]",
      "text/plain": [
       "<Figure size 432x288 with 1 Axes>"
      ]
     },
     "metadata": {
      "needs_background": "light"
     },
     "output_type": "display_data"
    }
   ],
   "source": [
    "sns.lineplot(data=df_maxlens.set_index('maxlen').iloc[:,2:4])\n",
    "plt.xlabel(\"Length of traning sequence\")\n",
    "plt.ylabel(\"Metric value\")\n",
    "plt.ylim([0,0.6])"
   ]
  },
  {
   "cell_type": "markdown",
   "id": "10cf027a",
   "metadata": {},
   "source": [
    "# Number of blocks"
   ]
  },
  {
   "cell_type": "code",
   "execution_count": 9,
   "id": "53258701",
   "metadata": {},
   "outputs": [
    {
     "data": {
      "text/html": [
       "<div>\n",
       "<style scoped>\n",
       "    .dataframe tbody tr th:only-of-type {\n",
       "        vertical-align: middle;\n",
       "    }\n",
       "\n",
       "    .dataframe tbody tr th {\n",
       "        vertical-align: top;\n",
       "    }\n",
       "\n",
       "    .dataframe thead th {\n",
       "        text-align: right;\n",
       "    }\n",
       "</style>\n",
       "<table border=\"1\" class=\"dataframe\">\n",
       "  <thead>\n",
       "    <tr style=\"text-align: right;\">\n",
       "      <th></th>\n",
       "      <th>Unnamed: 0</th>\n",
       "      <th>num_of_blocks</th>\n",
       "      <th>epoch</th>\n",
       "      <th>validation_NDCG</th>\n",
       "      <th>validation_hit</th>\n",
       "      <th>test_NDCG</th>\n",
       "      <th>test_hit</th>\n",
       "    </tr>\n",
       "  </thead>\n",
       "  <tbody>\n",
       "    <tr>\n",
       "      <th>0</th>\n",
       "      <td>0</td>\n",
       "      <td>1</td>\n",
       "      <td>50</td>\n",
       "      <td>0.299234</td>\n",
       "      <td>0.4665</td>\n",
       "      <td>0.221675</td>\n",
       "      <td>0.3936</td>\n",
       "    </tr>\n",
       "    <tr>\n",
       "      <th>1</th>\n",
       "      <td>0</td>\n",
       "      <td>2</td>\n",
       "      <td>50</td>\n",
       "      <td>0.282225</td>\n",
       "      <td>0.4573</td>\n",
       "      <td>0.236469</td>\n",
       "      <td>0.4019</td>\n",
       "    </tr>\n",
       "    <tr>\n",
       "      <th>2</th>\n",
       "      <td>0</td>\n",
       "      <td>3</td>\n",
       "      <td>50</td>\n",
       "      <td>0.282728</td>\n",
       "      <td>0.4571</td>\n",
       "      <td>0.233291</td>\n",
       "      <td>0.3957</td>\n",
       "    </tr>\n",
       "    <tr>\n",
       "      <th>3</th>\n",
       "      <td>0</td>\n",
       "      <td>4</td>\n",
       "      <td>50</td>\n",
       "      <td>0.273276</td>\n",
       "      <td>0.4559</td>\n",
       "      <td>0.233008</td>\n",
       "      <td>0.3903</td>\n",
       "    </tr>\n",
       "    <tr>\n",
       "      <th>4</th>\n",
       "      <td>0</td>\n",
       "      <td>5</td>\n",
       "      <td>50</td>\n",
       "      <td>0.267475</td>\n",
       "      <td>0.4472</td>\n",
       "      <td>0.207975</td>\n",
       "      <td>0.3759</td>\n",
       "    </tr>\n",
       "  </tbody>\n",
       "</table>\n",
       "</div>"
      ],
      "text/plain": [
       "   Unnamed: 0  num_of_blocks  epoch  validation_NDCG  validation_hit  \\\n",
       "0           0              1     50         0.299234          0.4665   \n",
       "1           0              2     50         0.282225          0.4573   \n",
       "2           0              3     50         0.282728          0.4571   \n",
       "3           0              4     50         0.273276          0.4559   \n",
       "4           0              5     50         0.267475          0.4472   \n",
       "\n",
       "   test_NDCG  test_hit  \n",
       "0   0.221675    0.3936  \n",
       "1   0.236469    0.4019  \n",
       "2   0.233291    0.3957  \n",
       "3   0.233008    0.3903  \n",
       "4   0.207975    0.3759  "
      ]
     },
     "execution_count": 9,
     "metadata": {},
     "output_type": "execute_result"
    }
   ],
   "source": [
    "df_blocks = pd.read_csv(\"Experiment with number of blocks.csv\")\n",
    "df_blocks"
   ]
  },
  {
   "cell_type": "code",
   "execution_count": 21,
   "id": "fbbb47db",
   "metadata": {},
   "outputs": [
    {
     "data": {
      "text/plain": [
       "(0.0, 6.0)"
      ]
     },
     "execution_count": 21,
     "metadata": {},
     "output_type": "execute_result"
    },
    {
     "data": {
      "image/png": "[encoded data removed]",
      "text/plain": [
       "<Figure size 432x288 with 1 Axes>"
      ]
     },
     "metadata": {
      "needs_background": "light"
     },
     "output_type": "display_data"
    }
   ],
   "source": [
    "sns.lineplot(data=df_blocks.set_index('num_of_blocks').iloc[:,2:4])\n",
    "plt.xlabel(\"Number of blocks\")\n",
    "plt.ylabel(\"Metric value\")\n",
    "plt.ylim([0,0.6])\n",
    "plt.xlim([0,6])"
   ]
  },
  {
   "cell_type": "markdown",
   "id": "544161b9",
   "metadata": {},
   "source": [
    "# Number of epochs"
   ]
  },
  {
   "cell_type": "code",
   "execution_count": 11,
   "id": "3b66fc8b",
   "metadata": {},
   "outputs": [
    {
     "data": {
      "text/html": [
       "<div>\n",
       "<style scoped>\n",
       "    .dataframe tbody tr th:only-of-type {\n",
       "        vertical-align: middle;\n",
       "    }\n",
       "\n",
       "    .dataframe tbody tr th {\n",
       "        vertical-align: top;\n",
       "    }\n",
       "\n",
       "    .dataframe thead th {\n",
       "        text-align: right;\n",
       "    }\n",
       "</style>\n",
       "<table border=\"1\" class=\"dataframe\">\n",
       "  <thead>\n",
       "    <tr style=\"text-align: right;\">\n",
       "      <th></th>\n",
       "      <th>Unnamed: 0</th>\n",
       "      <th>num_of_heads</th>\n",
       "      <th>epoch</th>\n",
       "      <th>validation_NDCG</th>\n",
       "      <th>validation_hit</th>\n",
       "      <th>test_NDCG</th>\n",
       "      <th>test_hit</th>\n",
       "    </tr>\n",
       "  </thead>\n",
       "  <tbody>\n",
       "    <tr>\n",
       "      <th>0</th>\n",
       "      <td>0</td>\n",
       "      <td>10</td>\n",
       "      <td>10</td>\n",
       "      <td>0.211192</td>\n",
       "      <td>0.3581</td>\n",
       "      <td>0.188766</td>\n",
       "      <td>0.3252</td>\n",
       "    </tr>\n",
       "    <tr>\n",
       "      <th>1</th>\n",
       "      <td>0</td>\n",
       "      <td>50</td>\n",
       "      <td>50</td>\n",
       "      <td>0.297936</td>\n",
       "      <td>0.4743</td>\n",
       "      <td>0.217635</td>\n",
       "      <td>0.3881</td>\n",
       "    </tr>\n",
       "    <tr>\n",
       "      <th>2</th>\n",
       "      <td>0</td>\n",
       "      <td>100</td>\n",
       "      <td>100</td>\n",
       "      <td>0.319161</td>\n",
       "      <td>0.4803</td>\n",
       "      <td>0.231046</td>\n",
       "      <td>0.4291</td>\n",
       "    </tr>\n",
       "    <tr>\n",
       "      <th>3</th>\n",
       "      <td>0</td>\n",
       "      <td>200</td>\n",
       "      <td>200</td>\n",
       "      <td>0.334888</td>\n",
       "      <td>0.4991</td>\n",
       "      <td>0.232063</td>\n",
       "      <td>0.4412</td>\n",
       "    </tr>\n",
       "  </tbody>\n",
       "</table>\n",
       "</div>"
      ],
      "text/plain": [
       "   Unnamed: 0  num_of_heads  epoch  validation_NDCG  validation_hit  \\\n",
       "0           0            10     10         0.211192          0.3581   \n",
       "1           0            50     50         0.297936          0.4743   \n",
       "2           0           100    100         0.319161          0.4803   \n",
       "3           0           200    200         0.334888          0.4991   \n",
       "\n",
       "   test_NDCG  test_hit  \n",
       "0   0.188766    0.3252  \n",
       "1   0.217635    0.3881  \n",
       "2   0.231046    0.4291  \n",
       "3   0.232063    0.4412  "
      ]
     },
     "execution_count": 11,
     "metadata": {},
     "output_type": "execute_result"
    }
   ],
   "source": [
    "df_epochs = pd.read_csv(\"Experiment with number of epochs.csv\")\n",
    "df_epochs # 这个num_of_head其实是epochs，typo"
   ]
  },
  {
   "cell_type": "code",
   "execution_count": 12,
   "id": "bffa740c",
   "metadata": {},
   "outputs": [
    {
     "data": {
      "text/plain": [
       "<AxesSubplot:xlabel='epoch'>"
      ]
     },
     "execution_count": 12,
     "metadata": {},
     "output_type": "execute_result"
    },
    {
     "data": {
      "image/png": "[encoded data removed]",
      "text/plain": [
       "<Figure size 432x288 with 1 Axes>"
      ]
     },
     "metadata": {
      "needs_background": "light"
     },
     "output_type": "display_data"
    }
   ],
   "source": [
    "sns.lineplot(data=df_epochs.set_index('epoch').iloc[:,2:])"
   ]
  },
  {
   "cell_type": "markdown",
   "id": "322c521b",
   "metadata": {},
   "source": [
    "# Number of heads"
   ]
  },
  {
   "cell_type": "code",
   "execution_count": 13,
   "id": "e8f04ecb",
   "metadata": {},
   "outputs": [
    {
     "data": {
      "text/html": [
       "<div>\n",
       "<style scoped>\n",
       "    .dataframe tbody tr th:only-of-type {\n",
       "        vertical-align: middle;\n",
       "    }\n",
       "\n",
       "    .dataframe tbody tr th {\n",
       "        vertical-align: top;\n",
       "    }\n",
       "\n",
       "    .dataframe thead th {\n",
       "        text-align: right;\n",
       "    }\n",
       "</style>\n",
       "<table border=\"1\" class=\"dataframe\">\n",
       "  <thead>\n",
       "    <tr style=\"text-align: right;\">\n",
       "      <th></th>\n",
       "      <th>Unnamed: 0</th>\n",
       "      <th>num_of_heads</th>\n",
       "      <th>epoch</th>\n",
       "      <th>validation_NDCG</th>\n",
       "      <th>validation_hit</th>\n",
       "      <th>test_NDCG</th>\n",
       "      <th>test_hit</th>\n",
       "    </tr>\n",
       "  </thead>\n",
       "  <tbody>\n",
       "    <tr>\n",
       "      <th>0</th>\n",
       "      <td>0</td>\n",
       "      <td>1</td>\n",
       "      <td>50</td>\n",
       "      <td>0.294321</td>\n",
       "      <td>0.4668</td>\n",
       "      <td>0.225764</td>\n",
       "      <td>0.4037</td>\n",
       "    </tr>\n",
       "    <tr>\n",
       "      <th>1</th>\n",
       "      <td>0</td>\n",
       "      <td>2</td>\n",
       "      <td>50</td>\n",
       "      <td>0.295572</td>\n",
       "      <td>0.4597</td>\n",
       "      <td>0.227690</td>\n",
       "      <td>0.4025</td>\n",
       "    </tr>\n",
       "    <tr>\n",
       "      <th>2</th>\n",
       "      <td>0</td>\n",
       "      <td>5</td>\n",
       "      <td>50</td>\n",
       "      <td>0.295756</td>\n",
       "      <td>0.4647</td>\n",
       "      <td>0.228482</td>\n",
       "      <td>0.4003</td>\n",
       "    </tr>\n",
       "    <tr>\n",
       "      <th>3</th>\n",
       "      <td>0</td>\n",
       "      <td>10</td>\n",
       "      <td>50</td>\n",
       "      <td>0.291750</td>\n",
       "      <td>0.4711</td>\n",
       "      <td>0.225810</td>\n",
       "      <td>0.3983</td>\n",
       "    </tr>\n",
       "  </tbody>\n",
       "</table>\n",
       "</div>"
      ],
      "text/plain": [
       "   Unnamed: 0  num_of_heads  epoch  validation_NDCG  validation_hit  \\\n",
       "0           0             1     50         0.294321          0.4668   \n",
       "1           0             2     50         0.295572          0.4597   \n",
       "2           0             5     50         0.295756          0.4647   \n",
       "3           0            10     50         0.291750          0.4711   \n",
       "\n",
       "   test_NDCG  test_hit  \n",
       "0   0.225764    0.4037  \n",
       "1   0.227690    0.4025  \n",
       "2   0.228482    0.4003  \n",
       "3   0.225810    0.3983  "
      ]
     },
     "execution_count": 13,
     "metadata": {},
     "output_type": "execute_result"
    }
   ],
   "source": [
    "df_heads = pd.read_csv(\"Experiment with number of head.csv\")\n",
    "df_heads"
   ]
  },
  {
   "cell_type": "code",
   "execution_count": 14,
   "id": "6c3042dc",
   "metadata": {},
   "outputs": [
    {
     "data": {
      "text/plain": [
       "<AxesSubplot:xlabel='num_of_heads'>"
      ]
     },
     "execution_count": 14,
     "metadata": {},
     "output_type": "execute_result"
    },
    {
     "data": {
      "image/png": "[encoded data removed]",
      "text/plain": [
       "<Figure size 432x288 with 1 Axes>"
      ]
     },
     "metadata": {
      "needs_background": "light"
     },
     "output_type": "display_data"
    }
   ],
   "source": [
    "sns.lineplot(data=df_heads.set_index('num_of_heads').iloc[:,2:])"
   ]
  },
  {
   "cell_type": "code",
   "execution_count": 15,
   "id": "a3d77803",
   "metadata": {},
   "outputs": [
    {
     "data": {
      "text/plain": [
       "(0.0, 11.0)"
      ]
     },
     "execution_count": 15,
     "metadata": {},
     "output_type": "execute_result"
    },
    {
     "data": {
      "image/png": "[encoded data removed]",
      "text/plain": [
       "<Figure size 432x288 with 1 Axes>"
      ]
     },
     "metadata": {
      "needs_background": "light"
     },
     "output_type": "display_data"
    }
   ],
   "source": [
    "sns.lineplot(data=df_heads.set_index('num_of_heads').iloc[:,2:4])\n",
    "plt.xlabel(\"Number of heads\")\n",
    "plt.ylabel(\"Metric value\")\n",
    "plt.ylim([0,0.6])\n",
    "plt.xlim([0,11])"
   ]
  },
  {
   "cell_type": "markdown",
   "id": "f4563308",
   "metadata": {},
   "source": [
    "# CutOff"
   ]
  },
  {
   "cell_type": "code",
   "execution_count": 16,
   "id": "d55ce334",
   "metadata": {},
   "outputs": [
    {
     "data": {
      "text/html": [
       "<div>\n",
       "<style scoped>\n",
       "    .dataframe tbody tr th:only-of-type {\n",
       "        vertical-align: middle;\n",
       "    }\n",
       "\n",
       "    .dataframe tbody tr th {\n",
       "        vertical-align: top;\n",
       "    }\n",
       "\n",
       "    .dataframe thead th {\n",
       "        text-align: right;\n",
       "    }\n",
       "</style>\n",
       "<table border=\"1\" class=\"dataframe\">\n",
       "  <thead>\n",
       "    <tr style=\"text-align: right;\">\n",
       "      <th></th>\n",
       "      <th>Unnamed: 0</th>\n",
       "      <th>cutoff</th>\n",
       "      <th>epoch</th>\n",
       "      <th>validation_NDCG</th>\n",
       "      <th>validation_hit</th>\n",
       "      <th>test_NDCG</th>\n",
       "      <th>test_hit</th>\n",
       "    </tr>\n",
       "  </thead>\n",
       "  <tbody>\n",
       "    <tr>\n",
       "      <th>0</th>\n",
       "      <td>0</td>\n",
       "      <td>5</td>\n",
       "      <td>50</td>\n",
       "      <td>0.264617</td>\n",
       "      <td>0.3669</td>\n",
       "      <td>0.188669</td>\n",
       "      <td>0.2875</td>\n",
       "    </tr>\n",
       "    <tr>\n",
       "      <th>1</th>\n",
       "      <td>0</td>\n",
       "      <td>6</td>\n",
       "      <td>50</td>\n",
       "      <td>0.277082</td>\n",
       "      <td>0.3987</td>\n",
       "      <td>0.200214</td>\n",
       "      <td>0.3210</td>\n",
       "    </tr>\n",
       "    <tr>\n",
       "      <th>2</th>\n",
       "      <td>0</td>\n",
       "      <td>7</td>\n",
       "      <td>50</td>\n",
       "      <td>0.281432</td>\n",
       "      <td>0.4154</td>\n",
       "      <td>0.211291</td>\n",
       "      <td>0.3364</td>\n",
       "    </tr>\n",
       "    <tr>\n",
       "      <th>3</th>\n",
       "      <td>0</td>\n",
       "      <td>8</td>\n",
       "      <td>50</td>\n",
       "      <td>0.283576</td>\n",
       "      <td>0.4384</td>\n",
       "      <td>0.209124</td>\n",
       "      <td>0.3525</td>\n",
       "    </tr>\n",
       "    <tr>\n",
       "      <th>4</th>\n",
       "      <td>0</td>\n",
       "      <td>9</td>\n",
       "      <td>50</td>\n",
       "      <td>0.293971</td>\n",
       "      <td>0.4478</td>\n",
       "      <td>0.220813</td>\n",
       "      <td>0.3892</td>\n",
       "    </tr>\n",
       "    <tr>\n",
       "      <th>5</th>\n",
       "      <td>0</td>\n",
       "      <td>10</td>\n",
       "      <td>50</td>\n",
       "      <td>0.299139</td>\n",
       "      <td>0.4689</td>\n",
       "      <td>0.224744</td>\n",
       "      <td>0.4012</td>\n",
       "    </tr>\n",
       "    <tr>\n",
       "      <th>6</th>\n",
       "      <td>0</td>\n",
       "      <td>11</td>\n",
       "      <td>50</td>\n",
       "      <td>0.290141</td>\n",
       "      <td>0.4799</td>\n",
       "      <td>0.232892</td>\n",
       "      <td>0.4083</td>\n",
       "    </tr>\n",
       "    <tr>\n",
       "      <th>7</th>\n",
       "      <td>0</td>\n",
       "      <td>12</td>\n",
       "      <td>50</td>\n",
       "      <td>0.308756</td>\n",
       "      <td>0.4939</td>\n",
       "      <td>0.240915</td>\n",
       "      <td>0.4356</td>\n",
       "    </tr>\n",
       "    <tr>\n",
       "      <th>8</th>\n",
       "      <td>0</td>\n",
       "      <td>13</td>\n",
       "      <td>50</td>\n",
       "      <td>0.308139</td>\n",
       "      <td>0.5142</td>\n",
       "      <td>0.242509</td>\n",
       "      <td>0.4554</td>\n",
       "    </tr>\n",
       "    <tr>\n",
       "      <th>9</th>\n",
       "      <td>0</td>\n",
       "      <td>14</td>\n",
       "      <td>50</td>\n",
       "      <td>0.301381</td>\n",
       "      <td>0.5133</td>\n",
       "      <td>0.242374</td>\n",
       "      <td>0.4636</td>\n",
       "    </tr>\n",
       "    <tr>\n",
       "      <th>10</th>\n",
       "      <td>0</td>\n",
       "      <td>15</td>\n",
       "      <td>50</td>\n",
       "      <td>0.303842</td>\n",
       "      <td>0.5329</td>\n",
       "      <td>0.251916</td>\n",
       "      <td>0.4849</td>\n",
       "    </tr>\n",
       "  </tbody>\n",
       "</table>\n",
       "</div>"
      ],
      "text/plain": [
       "    Unnamed: 0  cutoff  epoch  validation_NDCG  validation_hit  test_NDCG  \\\n",
       "0            0       5     50         0.264617          0.3669   0.188669   \n",
       "1            0       6     50         0.277082          0.3987   0.200214   \n",
       "2            0       7     50         0.281432          0.4154   0.211291   \n",
       "3            0       8     50         0.283576          0.4384   0.209124   \n",
       "4            0       9     50         0.293971          0.4478   0.220813   \n",
       "5            0      10     50         0.299139          0.4689   0.224744   \n",
       "6            0      11     50         0.290141          0.4799   0.232892   \n",
       "7            0      12     50         0.308756          0.4939   0.240915   \n",
       "8            0      13     50         0.308139          0.5142   0.242509   \n",
       "9            0      14     50         0.301381          0.5133   0.242374   \n",
       "10           0      15     50         0.303842          0.5329   0.251916   \n",
       "\n",
       "    test_hit  \n",
       "0     0.2875  \n",
       "1     0.3210  \n",
       "2     0.3364  \n",
       "3     0.3525  \n",
       "4     0.3892  \n",
       "5     0.4012  \n",
       "6     0.4083  \n",
       "7     0.4356  \n",
       "8     0.4554  \n",
       "9     0.4636  \n",
       "10    0.4849  "
      ]
     },
     "execution_count": 16,
     "metadata": {},
     "output_type": "execute_result"
    }
   ],
   "source": [
    "df_cutoff = pd.read_csv(\"Experiment with cutoff.csv\")\n",
    "df_cutoff # 重新比 5, 10 ，15"
   ]
  },
  {
   "cell_type": "code",
   "execution_count": 17,
   "id": "97f71fd3",
   "metadata": {},
   "outputs": [
    {
     "data": {
      "text/plain": [
       "<AxesSubplot:xlabel='cutoff'>"
      ]
     },
     "execution_count": 17,
     "metadata": {},
     "output_type": "execute_result"
    },
    {
     "data": {
      "image/png": "[encoded data removed]",
      "text/plain": [
       "<Figure size 432x288 with 1 Axes>"
      ]
     },
     "metadata": {
      "needs_background": "light"
     },
     "output_type": "display_data"
    }
   ],
   "source": [
    "sns.lineplot(data=df_cutoff.set_index('cutoff').iloc[:,2:])"
   ]
  },
  {
   "cell_type": "markdown",
   "id": "28c268d5",
   "metadata": {},
   "source": [
    "# Training curve"
   ]
  },
  {
   "cell_type": "code",
   "execution_count": 18,
   "id": "6b346294",
   "metadata": {
    "scrolled": true
   },
   "outputs": [
    {
     "data": {
      "text/html": [
       "<div>\n",
       "<style scoped>\n",
       "    .dataframe tbody tr th:only-of-type {\n",
       "        vertical-align: middle;\n",
       "    }\n",
       "\n",
       "    .dataframe tbody tr th {\n",
       "        vertical-align: top;\n",
       "    }\n",
       "\n",
       "    .dataframe thead th {\n",
       "        text-align: right;\n",
       "    }\n",
       "</style>\n",
       "<table border=\"1\" class=\"dataframe\">\n",
       "  <thead>\n",
       "    <tr style=\"text-align: right;\">\n",
       "      <th></th>\n",
       "      <th>Unnamed: 0</th>\n",
       "      <th>epoch</th>\n",
       "      <th>step</th>\n",
       "      <th>loss</th>\n",
       "    </tr>\n",
       "  </thead>\n",
       "  <tbody>\n",
       "    <tr>\n",
       "      <th>0</th>\n",
       "      <td>0</td>\n",
       "      <td>1</td>\n",
       "      <td>321</td>\n",
       "      <td>1.055153</td>\n",
       "    </tr>\n",
       "    <tr>\n",
       "      <th>1</th>\n",
       "      <td>0</td>\n",
       "      <td>2</td>\n",
       "      <td>321</td>\n",
       "      <td>0.778349</td>\n",
       "    </tr>\n",
       "    <tr>\n",
       "      <th>2</th>\n",
       "      <td>0</td>\n",
       "      <td>3</td>\n",
       "      <td>321</td>\n",
       "      <td>0.711379</td>\n",
       "    </tr>\n",
       "    <tr>\n",
       "      <th>3</th>\n",
       "      <td>0</td>\n",
       "      <td>4</td>\n",
       "      <td>321</td>\n",
       "      <td>0.678369</td>\n",
       "    </tr>\n",
       "    <tr>\n",
       "      <th>4</th>\n",
       "      <td>0</td>\n",
       "      <td>5</td>\n",
       "      <td>321</td>\n",
       "      <td>0.634691</td>\n",
       "    </tr>\n",
       "  </tbody>\n",
       "</table>\n",
       "</div>"
      ],
      "text/plain": [
       "   Unnamed: 0  epoch  step      loss\n",
       "0           0      1   321  1.055153\n",
       "1           0      2   321  0.778349\n",
       "2           0      3   321  0.711379\n",
       "3           0      4   321  0.678369\n",
       "4           0      5   321  0.634691"
      ]
     },
     "execution_count": 18,
     "metadata": {},
     "output_type": "execute_result"
    }
   ],
   "source": [
    "df_training_curve = pd.read_csv(\"training_curve.csv\")\n",
    "df_training_curve.head()"
   ]
  },
  {
   "cell_type": "code",
   "execution_count": 19,
   "id": "918132db",
   "metadata": {},
   "outputs": [
    {
     "data": {
      "text/plain": [
       "<AxesSubplot:xlabel='epoch', ylabel='loss'>"
      ]
     },
     "execution_count": 19,
     "metadata": {},
     "output_type": "execute_result"
    },
    {
     "data": {
      "image/png": "[encoded data removed]",
      "text/plain": [
       "<Figure size 432x288 with 1 Axes>"
      ]
     },
     "metadata": {
      "needs_background": "light"
     },
     "output_type": "display_data"
    }
   ],
   "source": [
    "sns.lineplot(data=df_training_curve.set_index('epoch')['loss'])"
   ]
  },
  {
   "cell_type": "code",
   "execution_count": 20,
   "id": "0dc421f5",
   "metadata": {},
   "outputs": [
    {
     "data": {
      "text/html": [
       "<div>\n",
       "<style scoped>\n",
       "    .dataframe tbody tr th:only-of-type {\n",
       "        vertical-align: middle;\n",
       "    }\n",
       "\n",
       "    .dataframe tbody tr th {\n",
       "        vertical-align: top;\n",
       "    }\n",
       "\n",
       "    .dataframe thead th {\n",
       "        text-align: right;\n",
       "    }\n",
       "</style>\n",
       "<table border=\"1\" class=\"dataframe\">\n",
       "  <thead>\n",
       "    <tr style=\"text-align: right;\">\n",
       "      <th></th>\n",
       "      <th>Unnamed: 0</th>\n",
       "      <th>epoch</th>\n",
       "      <th>step</th>\n",
       "      <th>loss</th>\n",
       "    </tr>\n",
       "  </thead>\n",
       "  <tbody>\n",
       "    <tr>\n",
       "      <th>0</th>\n",
       "      <td>0</td>\n",
       "      <td>1</td>\n",
       "      <td>321</td>\n",
       "      <td>1.069426</td>\n",
       "    </tr>\n",
       "    <tr>\n",
       "      <th>1</th>\n",
       "      <td>0</td>\n",
       "      <td>2</td>\n",
       "      <td>321</td>\n",
       "      <td>0.798488</td>\n",
       "    </tr>\n",
       "    <tr>\n",
       "      <th>2</th>\n",
       "      <td>0</td>\n",
       "      <td>3</td>\n",
       "      <td>321</td>\n",
       "      <td>0.763328</td>\n",
       "    </tr>\n",
       "    <tr>\n",
       "      <th>3</th>\n",
       "      <td>0</td>\n",
       "      <td>4</td>\n",
       "      <td>321</td>\n",
       "      <td>0.651963</td>\n",
       "    </tr>\n",
       "    <tr>\n",
       "      <th>4</th>\n",
       "      <td>0</td>\n",
       "      <td>5</td>\n",
       "      <td>321</td>\n",
       "      <td>0.596205</td>\n",
       "    </tr>\n",
       "  </tbody>\n",
       "</table>\n",
       "</div>"
      ],
      "text/plain": [
       "   Unnamed: 0  epoch  step      loss\n",
       "0           0      1   321  1.069426\n",
       "1           0      2   321  0.798488\n",
       "2           0      3   321  0.763328\n",
       "3           0      4   321  0.651963\n",
       "4           0      5   321  0.596205"
      ]
     },
     "execution_count": 20,
     "metadata": {},
     "output_type": "execute_result"
    }
   ],
   "source": [
    "df_training_curve_200 = pd.read_csv(\"training_curve(200epochs).csv\")\n",
    "df_training_curve_200.head()"
   ]
  },
  {
   "cell_type": "code",
   "execution_count": null,
   "id": "5d1a9f53",
   "metadata": {},
   "outputs": [],
   "source": [
    "sns.lineplot(data=df_training_curve_200.set_index('epoch')['loss'])"
   ]
  }
 ],
 "metadata": {
  "kernelspec": {
   "display_name": "Python 3",
   "language": "python",
   "name": "python3"
  },
  "language_info": {
   "codemirror_mode": {
    "name": "ipython",
    "version": 3
   },
   "file_extension": ".py",
   "mimetype": "text/x-python",
   "name": "python",
   "nbconvert_exporter": "python",
   "pygments_lexer": "ipython3",
   "version": "3.7.7"
  },
  "toc": {
   "base_numbering": 1,
   "nav_menu": {},
   "number_sections": true,
   "sideBar": true,
   "skip_h1_title": false,
   "title_cell": "Table of Contents",
   "title_sidebar": "Contents",
   "toc_cell": true,
   "toc_position": {},
   "toc_section_display": true,
   "toc_window_display": false
  },
  "varInspector": {
   "cols": {
    "lenName": 16,
    "lenType": 16,
    "lenVar": 40
   },
   "kernels_config": {
    "python": {
     "delete_cmd_postfix": "",
     "delete_cmd_prefix": "del ",
     "library": "var_list.py",
     "varRefreshCmd": "print(var_dic_list())"
    },
    "r": {
     "delete_cmd_postfix": ") ",
     "delete_cmd_prefix": "rm(",
     "library": "var_list.r",
     "varRefreshCmd": "cat(var_dic_list()) "
    }
   },
   "types_to_exclude": [
    "module",
    "function",
    "builtin_function_or_method",
    "instance",
    "_Feature"
   ],
   "window_display": false
  }
 },
 "nbformat": 4,
 "nbformat_minor": 5
}
