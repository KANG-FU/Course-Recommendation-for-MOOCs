{
 "cells": [
  {
   "cell_type": "markdown",
   "metadata": {},
   "source": [
    "# Import the library"
   ]
  },
  {
   "cell_type": "code",
   "execution_count": 1,
   "metadata": {},
   "outputs": [],
   "source": [
    "import numpy as np\n",
    "import pandas as pd\n",
    "import matplotlib.pyplot as plt\n",
    "\n",
    "import warnings\n",
    "warnings.filterwarnings(\"ignore\") "
   ]
  },
  {
   "cell_type": "code",
   "execution_count": 2,
   "metadata": {},
   "outputs": [
    {
     "data": {
      "text/html": [
       "<div>\n",
       "<style scoped>\n",
       "    .dataframe tbody tr th:only-of-type {\n",
       "        vertical-align: middle;\n",
       "    }\n",
       "\n",
       "    .dataframe tbody tr th {\n",
       "        vertical-align: top;\n",
       "    }\n",
       "\n",
       "    .dataframe thead th {\n",
       "        text-align: right;\n",
       "    }\n",
       "</style>\n",
       "<table border=\"1\" class=\"dataframe\">\n",
       "  <thead>\n",
       "    <tr style=\"text-align: right;\">\n",
       "      <th></th>\n",
       "      <th>stu_id</th>\n",
       "      <th>time</th>\n",
       "      <th>course_index</th>\n",
       "      <th>name</th>\n",
       "      <th>type</th>\n",
       "      <th>type_id</th>\n",
       "    </tr>\n",
       "  </thead>\n",
       "  <tbody>\n",
       "    <tr>\n",
       "      <th>0</th>\n",
       "      <td>0</td>\n",
       "      <td>2017/6/1 9:02</td>\n",
       "      <td>0</td>\n",
       "      <td>中国建筑史（上）</td>\n",
       "      <td>艺术·设计 历史</td>\n",
       "      <td>20.0</td>\n",
       "    </tr>\n",
       "    <tr>\n",
       "      <th>1</th>\n",
       "      <td>0</td>\n",
       "      <td>2017/7/4 7:52</td>\n",
       "      <td>1</td>\n",
       "      <td>外国工艺美术史</td>\n",
       "      <td>艺术·设计</td>\n",
       "      <td>20.0</td>\n",
       "    </tr>\n",
       "    <tr>\n",
       "      <th>2</th>\n",
       "      <td>0</td>\n",
       "      <td>2017/7/4 7:55</td>\n",
       "      <td>2</td>\n",
       "      <td>心理学概论</td>\n",
       "      <td>社科·法律</td>\n",
       "      <td>13.0</td>\n",
       "    </tr>\n",
       "    <tr>\n",
       "      <th>3</th>\n",
       "      <td>0</td>\n",
       "      <td>2017/7/20 5:35</td>\n",
       "      <td>3</td>\n",
       "      <td>经济学原理</td>\n",
       "      <td>经管·会计</td>\n",
       "      <td>10.0</td>\n",
       "    </tr>\n",
       "    <tr>\n",
       "      <th>4</th>\n",
       "      <td>0</td>\n",
       "      <td>2017/11/14 5:36</td>\n",
       "      <td>4</td>\n",
       "      <td>公司金融</td>\n",
       "      <td>经管·会计</td>\n",
       "      <td>10.0</td>\n",
       "    </tr>\n",
       "  </tbody>\n",
       "</table>\n",
       "</div>"
      ],
      "text/plain": [
       "   stu_id             time  course_index      name      type  type_id\n",
       "0       0    2017/6/1 9:02             0  中国建筑史（上）  艺术·设计 历史     20.0\n",
       "1       0    2017/7/4 7:52             1   外国工艺美术史     艺术·设计     20.0\n",
       "2       0    2017/7/4 7:55             2     心理学概论     社科·法律     13.0\n",
       "3       0   2017/7/20 5:35             3     经济学原理     经管·会计     10.0\n",
       "4       0  2017/11/14 5:36             4      公司金融     经管·会计     10.0"
      ]
     },
     "execution_count": 2,
     "metadata": {},
     "output_type": "execute_result"
    }
   ],
   "source": [
    "data = pd.read_csv(\"data.csv\",engine='python',encoding='gbk')\n",
    "data.head()"
   ]
  },
  {
   "cell_type": "markdown",
   "metadata": {},
   "source": [
    "# Find the most popular courses"
   ]
  },
  {
   "cell_type": "code",
   "execution_count": 3,
   "metadata": {},
   "outputs": [
    {
     "data": {
      "text/html": [
       "<div>\n",
       "<style scoped>\n",
       "    .dataframe tbody tr th:only-of-type {\n",
       "        vertical-align: middle;\n",
       "    }\n",
       "\n",
       "    .dataframe tbody tr th {\n",
       "        vertical-align: top;\n",
       "    }\n",
       "\n",
       "    .dataframe thead th {\n",
       "        text-align: right;\n",
       "    }\n",
       "</style>\n",
       "<table border=\"1\" class=\"dataframe\">\n",
       "  <thead>\n",
       "    <tr style=\"text-align: right;\">\n",
       "      <th></th>\n",
       "      <th>course_index</th>\n",
       "      <th>name</th>\n",
       "      <th>type</th>\n",
       "      <th>type_id</th>\n",
       "      <th>choosen_times</th>\n",
       "    </tr>\n",
       "  </thead>\n",
       "  <tbody>\n",
       "    <tr>\n",
       "      <th>17</th>\n",
       "      <td>17</td>\n",
       "      <td>数据结构（上）</td>\n",
       "      <td>计算机</td>\n",
       "      <td>7.0</td>\n",
       "      <td>11058.0</td>\n",
       "    </tr>\n",
       "    <tr>\n",
       "      <th>14</th>\n",
       "      <td>14</td>\n",
       "      <td>C++语言程序设计基础</td>\n",
       "      <td>计算机</td>\n",
       "      <td>7.0</td>\n",
       "      <td>9050.0</td>\n",
       "    </tr>\n",
       "    <tr>\n",
       "      <th>10</th>\n",
       "      <td>10</td>\n",
       "      <td>计算机科学和Python编程导论</td>\n",
       "      <td>计算机</td>\n",
       "      <td>7.0</td>\n",
       "      <td>8292.0</td>\n",
       "    </tr>\n",
       "    <tr>\n",
       "      <th>214</th>\n",
       "      <td>26</td>\n",
       "      <td>网络技术与应用</td>\n",
       "      <td>计算机</td>\n",
       "      <td>7.0</td>\n",
       "      <td>8096.0</td>\n",
       "    </tr>\n",
       "    <tr>\n",
       "      <th>18</th>\n",
       "      <td>18</td>\n",
       "      <td>操作系统</td>\n",
       "      <td>计算机</td>\n",
       "      <td>7.0</td>\n",
       "      <td>6874.0</td>\n",
       "    </tr>\n",
       "    <tr>\n",
       "      <th>367</th>\n",
       "      <td>191</td>\n",
       "      <td>运营概论（微慕课）</td>\n",
       "      <td>工程 经管·会计</td>\n",
       "      <td>3.0</td>\n",
       "      <td>5949.0</td>\n",
       "    </tr>\n",
       "    <tr>\n",
       "      <th>15</th>\n",
       "      <td>15</td>\n",
       "      <td>生活英语听说</td>\n",
       "      <td>外语</td>\n",
       "      <td>16.0</td>\n",
       "      <td>5901.0</td>\n",
       "    </tr>\n",
       "    <tr>\n",
       "      <th>732</th>\n",
       "      <td>290</td>\n",
       "      <td>网络、群体与市场</td>\n",
       "      <td>计算机</td>\n",
       "      <td>7.0</td>\n",
       "      <td>5726.0</td>\n",
       "    </tr>\n",
       "    <tr>\n",
       "      <th>943</th>\n",
       "      <td>148</td>\n",
       "      <td>面向对象程序设计（C++）</td>\n",
       "      <td>计算机</td>\n",
       "      <td>7.0</td>\n",
       "      <td>5699.0</td>\n",
       "    </tr>\n",
       "    <tr>\n",
       "      <th>942</th>\n",
       "      <td>17</td>\n",
       "      <td>数据结构（上）</td>\n",
       "      <td>计算机</td>\n",
       "      <td>7.0</td>\n",
       "      <td>5684.0</td>\n",
       "    </tr>\n",
       "  </tbody>\n",
       "</table>\n",
       "</div>"
      ],
      "text/plain": [
       "     course_index              name      type  type_id  choosen_times\n",
       "17             17           数据结构（上）       计算机      7.0        11058.0\n",
       "14             14       C++语言程序设计基础       计算机      7.0         9050.0\n",
       "10             10  计算机科学和Python编程导论       计算机      7.0         8292.0\n",
       "214            26           网络技术与应用       计算机      7.0         8096.0\n",
       "18             18              操作系统       计算机      7.0         6874.0\n",
       "367           191         运营概论（微慕课）  工程 经管·会计      3.0         5949.0\n",
       "15             15            生活英语听说        外语     16.0         5901.0\n",
       "732           290          网络、群体与市场       计算机      7.0         5726.0\n",
       "943           148     面向对象程序设计（C++）       计算机      7.0         5699.0\n",
       "942            17           数据结构（上）       计算机      7.0         5684.0"
      ]
     },
     "execution_count": 3,
     "metadata": {},
     "output_type": "execute_result"
    }
   ],
   "source": [
    "# Find the most popular courses which is defined as the most chosen course in this dataset\n",
    "top_course = data[[\"course_index\",\"name\",\"type\",\"type_id\"]]\n",
    "top_course['choosen_times'] = top_course.groupby(\"course_index\").size()\n",
    "top_course = top_course.sort_values('choosen_times', ascending = False)\n",
    "top_course.head(10)"
   ]
  },
  {
   "cell_type": "markdown",
   "metadata": {},
   "source": [
    "# Non-Personalized Recommendation Model (Baseline)"
   ]
  },
  {
   "cell_type": "markdown",
   "metadata": {},
   "source": [
    "As its name suggests, this model is not personalized. Every student will receive the identical recommended courses. Here the indicators for recommendation is the popularity of the courses. Since this model is simple but beneficial, it will be a good baseline to compare against."
   ]
  },
  {
   "cell_type": "markdown",
   "metadata": {},
   "source": [
    "To be compared with other models, we take the most recent course as the test case and then calculate the hit rate and NDCG of this model"
   ]
  },
  {
   "cell_type": "code",
   "execution_count": 8,
   "metadata": {},
   "outputs": [],
   "source": [
    "def hit_rate_cal(data, top_course, N):\n",
    "    hit = 0\n",
    "    n_students = data[\"stu_id\"].nunique()\n",
    "    recommend_courses_index =  top_course[\"course_index\"].values[:N]\n",
    "    test = data.groupby('stu_id').nth(-1)[\"course_index\"].values\n",
    "    for student in range(n_students):\n",
    "        test_course = test[student]\n",
    "        if test_course in recommend_courses_index:\n",
    "            hit += 1\n",
    "        hit_rate = hit /n_students\n",
    "    return hit_rate\n",
    "\n",
    "\n",
    "def NDCG_cal(data, top_course, N):\n",
    "    NDCG = 0\n",
    "    n_students = data[\"stu_id\"].nunique()\n",
    "    recommend_courses_index =  top_course[\"course_index\"].values[:N]\n",
    "    test = data.groupby('stu_id').nth(-1)[\"course_index\"].values\n",
    "    for student in range(n_students):\n",
    "        test_course =  test[student]\n",
    "        if test_course in recommend_courses_index:\n",
    "            i = np.where(recommend_courses_index == test_course)[0][0]\n",
    "            if i == 0:\n",
    "                NDCG += 1\n",
    "            else:\n",
    "                NDCG += 1/np.log2(i+1)\n",
    "    NDCG = NDCG /n_students\n",
    "    return NDCG"
   ]
  },
  {
   "cell_type": "markdown",
   "metadata": {},
   "source": [
    "Calculate and plot the hit rate verse the number of recommended courses"
   ]
  },
  {
   "cell_type": "code",
   "execution_count": 6,
   "metadata": {},
   "outputs": [
    {
     "data": {
      "image/png": "[encoded data removed]",
      "text/plain": [
       "<Figure size 432x288 with 1 Axes>"
      ]
     },
     "metadata": {
      "needs_background": "light"
     },
     "output_type": "display_data"
    }
   ],
   "source": [
    "hit_rate = []\n",
    "for N in range(5,16):\n",
    "    hit_rate.append(hit_rate_cal(data, top_course, N))\n",
    "plt.plot(range(5,16), hit_rate)\n",
    "plt.xlabel(\"The number of recommended courses\")\n",
    "plt.ylabel(\"Hit Rate\")\n",
    "plt.show()"
   ]
  },
  {
   "cell_type": "markdown",
   "metadata": {},
   "source": [
    "Calculate and plot the NDCG verse the number of recommended courses"
   ]
  },
  {
   "cell_type": "code",
   "execution_count": 9,
   "metadata": {},
   "outputs": [
    {
     "data": {
      "image/png": "[encoded data removed]",
      "text/plain": [
       "<Figure size 432x288 with 1 Axes>"
      ]
     },
     "metadata": {
      "needs_background": "light"
     },
     "output_type": "display_data"
    }
   ],
   "source": [
    "NDCG = []\n",
    "for N in range(5,16):\n",
    "    NDCG.append(NDCG_cal(data, top_course, N))\n",
    "plt.plot(range(5,16), NDCG)\n",
    "plt.xlabel(\"The number of recommended courses\")\n",
    "plt.ylabel(\"NDCG\")\n",
    "plt.show()"
   ]
  },
  {
   "cell_type": "code",
   "execution_count": null,
   "metadata": {},
   "outputs": [],
   "source": []
  }
 ],
 "metadata": {
  "kernelspec": {
   "display_name": "Python 3",
   "language": "python",
   "name": "python3"
  },
  "language_info": {
   "codemirror_mode": {
    "name": "ipython",
    "version": 3
   },
   "file_extension": ".py",
   "mimetype": "text/x-python",
   "name": "python",
   "nbconvert_exporter": "python",
   "pygments_lexer": "ipython3",
   "version": "3.8.5"
  }
 },
 "nbformat": 4,
 "nbformat_minor": 4
}
