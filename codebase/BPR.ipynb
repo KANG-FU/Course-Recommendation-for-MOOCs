{
 "cells": [
  {
   "cell_type": "markdown",
   "metadata": {
    "id": "jtiPzrg0T5Dw"
   },
   "source": [
    "\n",
    "\n",
    "\n",
    "# Import the  Library"
   ]
  },
  {
   "cell_type": "code",
   "execution_count": 3,
   "metadata": {
    "executionInfo": {
     "elapsed": 1202,
     "status": "ok",
     "timestamp": 1622450861912,
     "user": {
      "displayName": "Fu Kang",
      "photoUrl": "",
      "userId": "08345650664249871730"
     },
     "user_tz": -120
    },
    "id": "5me9JZ-mT37Q"
   },
   "outputs": [],
   "source": [
    "import sys\n",
    "import numpy as np\n",
    "import pandas as pd\n",
    "from math import ceil\n",
    "from tqdm import trange\n",
    "from subprocess import call\n",
    "from itertools import islice\n",
    "from sklearn.metrics import roc_auc_score\n",
    "from sklearn.preprocessing import normalize\n",
    "from sklearn.neighbors import NearestNeighbors\n",
    "from scipy.sparse import csr_matrix, dok_matrix\n",
    "\n",
    "import warnings\n",
    "warnings.filterwarnings(\"ignore\") "
   ]
  },
  {
   "cell_type": "markdown",
   "metadata": {
    "id": "pCDXzpT5Txkv"
   },
   "source": [
    "# Load the data and data proprocessing "
   ]
  },
  {
   "cell_type": "code",
   "execution_count": 4,
   "metadata": {
    "colab": {
     "base_uri": "https://localhost:8080/",
     "height": 204
    },
    "executionInfo": {
     "elapsed": 3311,
     "status": "ok",
     "timestamp": 1622450868824,
     "user": {
      "displayName": "Fu Kang",
      "photoUrl": "",
      "userId": "08345650664249871730"
     },
     "user_tz": -120
    },
    "id": "L3quRMsZ4_y3",
    "outputId": "f7183df3-588c-4293-d196-9394c763c611"
   },
   "outputs": [
    {
     "data": {
      "text/html": [
       "<div>\n",
       "<style scoped>\n",
       "    .dataframe tbody tr th:only-of-type {\n",
       "        vertical-align: middle;\n",
       "    }\n",
       "\n",
       "    .dataframe tbody tr th {\n",
       "        vertical-align: top;\n",
       "    }\n",
       "\n",
       "    .dataframe thead th {\n",
       "        text-align: right;\n",
       "    }\n",
       "</style>\n",
       "<table border=\"1\" class=\"dataframe\">\n",
       "  <thead>\n",
       "    <tr style=\"text-align: right;\">\n",
       "      <th></th>\n",
       "      <th>stu_id</th>\n",
       "      <th>time</th>\n",
       "      <th>course_index</th>\n",
       "      <th>name</th>\n",
       "      <th>type</th>\n",
       "      <th>type_id</th>\n",
       "    </tr>\n",
       "  </thead>\n",
       "  <tbody>\n",
       "    <tr>\n",
       "      <th>0</th>\n",
       "      <td>0</td>\n",
       "      <td>2017/6/1 9:02</td>\n",
       "      <td>0</td>\n",
       "      <td>中国建筑史（上）</td>\n",
       "      <td>艺术·设计 历史</td>\n",
       "      <td>20.0</td>\n",
       "    </tr>\n",
       "    <tr>\n",
       "      <th>1</th>\n",
       "      <td>0</td>\n",
       "      <td>2017/7/4 7:52</td>\n",
       "      <td>1</td>\n",
       "      <td>外国工艺美术史</td>\n",
       "      <td>艺术·设计</td>\n",
       "      <td>20.0</td>\n",
       "    </tr>\n",
       "    <tr>\n",
       "      <th>2</th>\n",
       "      <td>0</td>\n",
       "      <td>2017/7/4 7:55</td>\n",
       "      <td>2</td>\n",
       "      <td>心理学概论</td>\n",
       "      <td>社科·法律</td>\n",
       "      <td>13.0</td>\n",
       "    </tr>\n",
       "    <tr>\n",
       "      <th>3</th>\n",
       "      <td>0</td>\n",
       "      <td>2017/7/20 5:35</td>\n",
       "      <td>3</td>\n",
       "      <td>经济学原理</td>\n",
       "      <td>经管·会计</td>\n",
       "      <td>10.0</td>\n",
       "    </tr>\n",
       "    <tr>\n",
       "      <th>4</th>\n",
       "      <td>0</td>\n",
       "      <td>2017/11/14 5:36</td>\n",
       "      <td>4</td>\n",
       "      <td>公司金融</td>\n",
       "      <td>经管·会计</td>\n",
       "      <td>10.0</td>\n",
       "    </tr>\n",
       "  </tbody>\n",
       "</table>\n",
       "</div>"
      ],
      "text/plain": [
       "   stu_id             time  course_index      name      type  type_id\n",
       "0       0    2017/6/1 9:02             0  中国建筑史（上）  艺术·设计 历史     20.0\n",
       "1       0    2017/7/4 7:52             1   外国工艺美术史     艺术·设计     20.0\n",
       "2       0    2017/7/4 7:55             2     心理学概论     社科·法律     13.0\n",
       "3       0   2017/7/20 5:35             3     经济学原理     经管·会计     10.0\n",
       "4       0  2017/11/14 5:36             4      公司金融     经管·会计     10.0"
      ]
     },
     "execution_count": 4,
     "metadata": {},
     "output_type": "execute_result"
    }
   ],
   "source": [
    "data = pd.read_csv(\"data.csv\",engine='python',encoding='gbk')\n",
    "data.head()"
   ]
  },
  {
   "cell_type": "markdown",
   "metadata": {},
   "source": [
    "### select the stu_id and course_id and add a column rating 1 to show it has chosen this course"
   ]
  },
  {
   "cell_type": "code",
   "execution_count": 5,
   "metadata": {
    "colab": {
     "base_uri": "https://localhost:8080/",
     "height": 306
    },
    "executionInfo": {
     "elapsed": 45,
     "status": "ok",
     "timestamp": 1622450868834,
     "user": {
      "displayName": "Fu Kang",
      "photoUrl": "",
      "userId": "08345650664249871730"
     },
     "user_tz": -120
    },
    "id": "N65DqZjw4_y-",
    "outputId": "3a11b11b-4e60-4c46-ed4e-10aad8a642de"
   },
   "outputs": [
    {
     "data": {
      "text/html": [
       "<div>\n",
       "<style scoped>\n",
       "    .dataframe tbody tr th:only-of-type {\n",
       "        vertical-align: middle;\n",
       "    }\n",
       "\n",
       "    .dataframe tbody tr th {\n",
       "        vertical-align: top;\n",
       "    }\n",
       "\n",
       "    .dataframe thead th {\n",
       "        text-align: right;\n",
       "    }\n",
       "</style>\n",
       "<table border=\"1\" class=\"dataframe\">\n",
       "  <thead>\n",
       "    <tr style=\"text-align: right;\">\n",
       "      <th></th>\n",
       "      <th>stu_id</th>\n",
       "      <th>course_index</th>\n",
       "      <th>rating</th>\n",
       "    </tr>\n",
       "  </thead>\n",
       "  <tbody>\n",
       "    <tr>\n",
       "      <th>0</th>\n",
       "      <td>0</td>\n",
       "      <td>0</td>\n",
       "      <td>1</td>\n",
       "    </tr>\n",
       "    <tr>\n",
       "      <th>1</th>\n",
       "      <td>0</td>\n",
       "      <td>1</td>\n",
       "      <td>1</td>\n",
       "    </tr>\n",
       "    <tr>\n",
       "      <th>2</th>\n",
       "      <td>0</td>\n",
       "      <td>2</td>\n",
       "      <td>1</td>\n",
       "    </tr>\n",
       "    <tr>\n",
       "      <th>3</th>\n",
       "      <td>0</td>\n",
       "      <td>3</td>\n",
       "      <td>1</td>\n",
       "    </tr>\n",
       "    <tr>\n",
       "      <th>4</th>\n",
       "      <td>0</td>\n",
       "      <td>4</td>\n",
       "      <td>1</td>\n",
       "    </tr>\n",
       "  </tbody>\n",
       "</table>\n",
       "</div>"
      ],
      "text/plain": [
       "   stu_id  course_index  rating\n",
       "0       0             0       1\n",
       "1       0             1       1\n",
       "2       0             2       1\n",
       "3       0             3       1\n",
       "4       0             4       1"
      ]
     },
     "execution_count": 5,
     "metadata": {},
     "output_type": "execute_result"
    }
   ],
   "source": [
    "df = data[['stu_id','course_index']]\n",
    "df['rating'] = 1\n",
    "df.head()"
   ]
  },
  {
   "cell_type": "markdown",
   "metadata": {},
   "source": [
    "# Creates the sparse student-course interaction matrix "
   ]
  },
  {
   "cell_type": "code",
   "execution_count": 6,
   "metadata": {
    "executionInfo": {
     "elapsed": 37,
     "status": "ok",
     "timestamp": 1622450868838,
     "user": {
      "displayName": "Fu Kang",
      "photoUrl": "",
      "userId": "08345650664249871730"
     },
     "user_tz": -120
    },
    "id": "4_E39eHE4_zB"
   },
   "outputs": [],
   "source": [
    "def create_matrix(data, stu_col, courses_col, ratings_col):\n",
    "    \"\"\"\n",
    "    creates the sparse student-course interaction matrix \n",
    "    \"\"\"\n",
    "    \n",
    "    for col in (courses_col, stu_col, ratings_col):\n",
    "        data[col] = data[col].astype('category')\n",
    "\n",
    "    ratings = csr_matrix((data[ratings_col],\n",
    "                          (data[stu_col].cat.codes, data[courses_col].cat.codes)))\n",
    "    ratings.eliminate_zeros()\n",
    "    return ratings, data"
   ]
  },
  {
   "cell_type": "code",
   "execution_count": 7,
   "metadata": {
    "colab": {
     "base_uri": "https://localhost:8080/"
    },
    "executionInfo": {
     "elapsed": 259,
     "status": "ok",
     "timestamp": 1622450870231,
     "user": {
      "displayName": "Fu Kang",
      "photoUrl": "",
      "userId": "08345650664249871730"
     },
     "user_tz": -120
    },
    "id": "A1G2VrIV4_zE",
    "outputId": "f2199af6-288c-4f07-e0c9-43be9a3cfa13"
   },
   "outputs": [
    {
     "data": {
      "text/plain": [
       "<82535x1302 sparse matrix of type '<class 'numpy.int64'>'\n",
       "\twith 458453 stored elements in Compressed Sparse Row format>"
      ]
     },
     "execution_count": 7,
     "metadata": {},
     "output_type": "execute_result"
    }
   ],
   "source": [
    "courses_col = 'course_index'\n",
    "stu_col = 'stu_id'\n",
    "ratings_col = 'rating'\n",
    "X, df = create_matrix(df, stu_col, courses_col, ratings_col)\n",
    "X"
   ]
  },
  {
   "cell_type": "markdown",
   "metadata": {},
   "source": [
    "# Split date into training set and testing set"
   ]
  },
  {
   "cell_type": "markdown",
   "metadata": {},
   "source": [
    "split the  student-course interactions matrix into train and test set by removing some of the interactions from every student and pretend |that we never seen them"
   ]
  },
  {
   "cell_type": "code",
   "execution_count": 8,
   "metadata": {
    "executionInfo": {
     "elapsed": 9,
     "status": "ok",
     "timestamp": 1622450872614,
     "user": {
      "displayName": "Fu Kang",
      "photoUrl": "",
      "userId": "08345650664249871730"
     },
     "user_tz": -120
    },
    "id": "qQx3URqG4_zG"
   },
   "outputs": [],
   "source": [
    "def create_train_test(ratings):\n",
    "    \"\"\"\n",
    "    split the  student-course interactions matrix into train and test set\n",
    "    by removing some of the interactions from every student and pretend\n",
    "    that we never seen them\n",
    "    \"\"\"\n",
    "   \n",
    "    # Dictionary Of Keys based sparse matrix is more efficient\n",
    "    # for constructing sparse matrices incrementally compared with csr_matrix\n",
    "    train = ratings.copy().todok()\n",
    "    test = dok_matrix(train.shape)\n",
    "    \n",
    "    # select the most recent course as the test set, the remaining as the train set\n",
    "    for u in range(ratings.shape[0]):\n",
    "        split_index = ratings[u].indices\n",
    "        test_index = split_index[-1:]\n",
    "        test[u, test_index] = ratings[u, test_index]\n",
    "        train[u, test_index] = 0\n",
    "    \n",
    "    train, test = train.tocsr(), test.tocsr()\n",
    "    return train, test"
   ]
  },
  {
   "cell_type": "code",
   "execution_count": 9,
   "metadata": {
    "colab": {
     "base_uri": "https://localhost:8080/"
    },
    "executionInfo": {
     "elapsed": 48673,
     "status": "ok",
     "timestamp": 1622450925551,
     "user": {
      "displayName": "Fu Kang",
      "photoUrl": "",
      "userId": "08345650664249871730"
     },
     "user_tz": -120
    },
    "id": "v3MKi8P24_zK",
    "outputId": "24287769-1888-439f-b92e-852ecb15ca42"
   },
   "outputs": [
    {
     "data": {
      "text/plain": [
       "<82535x1302 sparse matrix of type '<class 'numpy.int64'>'\n",
       "\twith 375918 stored elements in Compressed Sparse Row format>"
      ]
     },
     "execution_count": 9,
     "metadata": {},
     "output_type": "execute_result"
    }
   ],
   "source": [
    "X_train, X_test = create_train_test(X)\n",
    "X_train"
   ]
  },
  {
   "cell_type": "markdown",
   "metadata": {},
   "source": [
    "# Construct the BPR class "
   ]
  },
  {
   "cell_type": "markdown",
   "metadata": {},
   "source": [
    "Bayesian Personalized Ranking (BPR) is derived from personalized ranking, which provides users with item recommendations of a ranked list of items. The ranked list of items is calculated from the users’ implicit behavior. BPR is based on matrix factorization. The chosen courses can be seen as positive datasets while the remaining courses can be a mixture of negative and missing values. Typically, the course recommenders output the personalized score $X_{ui}$ (u is a student and i is a course) based on the preference of the student for the courses, and courses are sorted from the predicted score. The machine learning model of course recommenders provides the training data by giving pairs (u, i) $\\in$ S as a positive class label and all other combinations in (U × I) $\\backslash$ S as the negative one. Here all the negative user-course pairs are replaced by 0.\n",
    "\n",
    "This algorithm is optimized by SGD."
   ]
  },
  {
   "cell_type": "code",
   "execution_count": 11,
   "metadata": {
    "executionInfo": {
     "elapsed": 91,
     "status": "ok",
     "timestamp": 1622450925556,
     "user": {
      "displayName": "Fu Kang",
      "photoUrl": "",
      "userId": "08345650664249871730"
     },
     "user_tz": -120
    },
    "id": "l8HIexOG4_zM"
   },
   "outputs": [],
   "source": [
    "class BPR:\n",
    "    \"\"\"\n",
    "    Bayesian Personalized Ranking (BPR) for implicit feedback data\n",
    "\n",
    "    Parameters\n",
    "    ----------\n",
    "    learning_rate : float, default 0.01\n",
    "        learning rate for gradient descent\n",
    "\n",
    "    n_factors : int, default 20\n",
    "        Number/dimension of latent factors\n",
    "\n",
    "    n_iters : int, default 15\n",
    "        Number of iterations to train the algorithm\n",
    "        \n",
    "    batch_size : int, default 1000\n",
    "        batch size for batch gradient descent\n",
    "\n",
    "    reg : int, default 0.01\n",
    "        Regularization term for the latent factors\n",
    "\n",
    "    seed : int, default 1234\n",
    "        Seed for the randomly initialized student, courses latent factors\n",
    "\n",
    "    verbose : bool, default True\n",
    "        Whether to print progress bar while training\n",
    "\n",
    "    Attributes\n",
    "    ----------\n",
    "    student_factors : 2d ndarray, shape [n_students, n_factors]\n",
    "        student latent factors learnt\n",
    "\n",
    "    course_factors : 2d ndarray, shape [n_students, n_factors]\n",
    "        course latent factors learnt\n",
    "\n",
    "    References\n",
    "    ----------\n",
    "    S. Rendle, C. Freudenthaler, Z. Gantner, L. Schmidt-Thieme \n",
    "    Bayesian Personalized Ranking from Implicit Feedback\n",
    "    - https://arxiv.org/abs/1205.2618\n",
    "    \"\"\"\n",
    "    def __init__(self, learning_rate = 0.01, n_factors = 15, n_iters = 10, \n",
    "                 batch_size = 1000, reg = 0.01, seed = 1234, verbose = True):\n",
    "        self.reg = reg\n",
    "        self.seed = seed\n",
    "        self.verbose = verbose\n",
    "        self.n_iters = n_iters\n",
    "        self.n_factors = n_factors\n",
    "        self.batch_size = batch_size\n",
    "        self.learning_rate = learning_rate\n",
    "        \n",
    "        # to avoid re-computation at predict\n",
    "        self._prediction = None\n",
    "        \n",
    "    def fit(self, ratings):\n",
    "        \"\"\"\n",
    "        Parameters\n",
    "        ----------\n",
    "        ratings : scipy sparse csr_matrix, shape [n_students, n_courses]\n",
    "            sparse matrix of student-course interactions\n",
    "        \"\"\"\n",
    "        indptr = ratings.indptr\n",
    "        indices = ratings.indices\n",
    "        n_students, n_courses = ratings.shape\n",
    "        \n",
    "        # ensure batch size makes sense, since the algorithm involves for each step randomly sample a student, \n",
    "        # thus the batch size should be smaller than the total number of students or else\n",
    "        # we would be sampling the user with replacement\n",
    "        batch_size = self.batch_size\n",
    "        if n_students < batch_size:\n",
    "            batch_size = n_students\n",
    "            sys.stderr.write('WARNING: Batch size is greater than number of students,'\n",
    "                             'switching to a batch size of {}\\n'.format(n_students))\n",
    "\n",
    "        batch_iters = n_students // batch_size\n",
    "        \n",
    "        # initialize random weights\n",
    "        rstate = np.random.RandomState(self.seed)\n",
    "        self.student_factors = rstate.normal(size = (n_students, self.n_factors))\n",
    "        self.course_factors = rstate.normal(size = (n_courses, self.n_factors))\n",
    "        \n",
    "        # progress bar for training iteration if verbose is turned on\n",
    "        loop = range(self.n_iters)\n",
    "        if self.verbose:\n",
    "            loop = trange(self.n_iters, desc = self.__class__.__name__)\n",
    "        \n",
    "        for _ in loop:\n",
    "            for _ in range(batch_iters):\n",
    "                sampled = self._sample(n_students, n_courses, indices, indptr)\n",
    "                sampled_students, sampled_pos_items, sampled_neg_items = sampled\n",
    "                self._update(sampled_students, sampled_pos_items, sampled_neg_items)\n",
    "\n",
    "        return self\n",
    "    \n",
    "    def _sample(self, n_students, n_courses, indices, indptr):\n",
    "        \"\"\"sample batches of random triplets u, i, j\"\"\"\n",
    "        sampled_pos_items = np.zeros(self.batch_size, dtype = np.int)\n",
    "        sampled_neg_items = np.zeros(self.batch_size, dtype = np.int)\n",
    "        sampled_students = np.random.choice(n_students, size = self.batch_size, replace = False)\n",
    "\n",
    "        for idx, user in enumerate(sampled_students):\n",
    "            pos_items = indices[indptr[user]:indptr[user + 1]]\n",
    "            pos_item = np.random.choice(pos_items)\n",
    "            neg_item = np.random.choice(n_courses)\n",
    "            while neg_item in pos_items:\n",
    "                neg_item = np.random.choice(n_courses)\n",
    "\n",
    "            sampled_pos_items[idx] = pos_item\n",
    "            sampled_neg_items[idx] = neg_item\n",
    "\n",
    "        return sampled_students, sampled_pos_items, sampled_neg_items\n",
    "                \n",
    "    def _update(self, u, i, j):\n",
    "        \"\"\"\n",
    "        update according to the bootstrapped user u, \n",
    "        positive item i and negative item j\n",
    "        \"\"\"\n",
    "        stu_u = self.student_factors[u]\n",
    "        course_i = self.course_factors[i]\n",
    "        course_j = self.course_factors[j]\n",
    "        \n",
    "        # decompose the estimator, compute the difference between\n",
    "        # the score of the positive items and negative items; a\n",
    "        # naive implementation might look like the following:\n",
    "        # r_ui = np.diag(stu_u.dot(course_i.T))\n",
    "        # r_uj = np.diag(stu_u.dot(course_j.T))\n",
    "        # r_uij = r_ui - r_uj\n",
    "        \n",
    "        # however, we can do better, so\n",
    "        # for batch dot product, instead of doing the dot product\n",
    "        # then only extract the diagonal element (which is the value\n",
    "        # of that current batch), we perform a hadamard product, \n",
    "        # i.e. matrix element-wise product then do a sum along the column will\n",
    "        # be more efficient since it's less operations\n",
    "        # r_ui = np.sum(stu_u * course_i, axis = 1)\n",
    "        #\n",
    "        # then we can achieve another speedup by doing the difference\n",
    "        # on the positive and negative item up front instead of computing\n",
    "        # r_ui and r_uj separately, these two idea will speed up the operations\n",
    "        # from 1:14 down to 0.36\n",
    "        r_uij = np.sum(stu_u * (course_i - course_j), axis = 1)\n",
    "        sigmoid = np.exp(-r_uij) / (1.0 + np.exp(-r_uij))\n",
    "        \n",
    "        # repeat the 1 dimension sigmoid n_factors times so\n",
    "        # the dimension will match when doing the update\n",
    "        sigmoid_tiled = np.tile(sigmoid, (self.n_factors, 1)).T\n",
    "\n",
    "        # update using gradient descent\n",
    "        grad_u = sigmoid_tiled * (course_j - course_i) + self.reg * stu_u\n",
    "        grad_i = sigmoid_tiled * -stu_u + self.reg * course_i\n",
    "        grad_j = sigmoid_tiled * stu_u + self.reg * course_j\n",
    "        self.student_factors[u] -= self.learning_rate * grad_u\n",
    "        self.course_factors[i] -= self.learning_rate * grad_i\n",
    "        self.course_factors[j] -= self.learning_rate * grad_j\n",
    "        return self\n",
    "\n",
    "    def predict(self):\n",
    "        \"\"\"\n",
    "        Obtain the predicted ratings for every students and courses\n",
    "        by doing a dot product of the learnt student and courses vectors.\n",
    "        The result will be cached to avoid re-computing it every time\n",
    "        we call predict, thus there will only be an overhead the first\n",
    "        time we call it. Note, ideally you probably don't need to compute\n",
    "        this as it returns a dense matrix and may take up huge amounts of\n",
    "        memory for large datasets\n",
    "        \"\"\"\n",
    "        if self._prediction is None:\n",
    "            self._prediction = self.student_factors.dot(self.course_factors.T)\n",
    "\n",
    "        return self._prediction\n",
    "\n",
    "    def _predict_stu(self, student):\n",
    "        \"\"\"\n",
    "        returns the predicted ratings for the specified student,\n",
    "        this is mainly used in computing evaluation metric\n",
    "        \"\"\"\n",
    "        stu_pred = self.student_factors[student].dot(self.course_factors.T)\n",
    "        return stu_pred\n",
    "\n",
    "    def recommend(self, ratings, N = 5):\n",
    "        \"\"\"\n",
    "        Returns the top N ranked courses for given student id, excluding the ones that the student already chosen\n",
    "        \"\"\"\n",
    "        n_students = ratings.shape[0]\n",
    "        recommendation = np.zeros((n_students, N), dtype = np.uint32)\n",
    "        for student in range(n_students):\n",
    "            top_n = self._recommend_stu(ratings, student, N)\n",
    "            recommendation[student] = top_n\n",
    "\n",
    "        return recommendation\n",
    "\n",
    "    def _recommend_stu(self, ratings, student, N):\n",
    "        \"\"\"the top-N ranked courses for a given student\"\"\"\n",
    "        scores = self._predict_stu(student)\n",
    "\n",
    "        # compute the top N courses, removing the courses that the student already chosen\n",
    "        # from the result and ensure that we don't get out of bounds error when \n",
    "        # we ask for more recommendations than that are available\n",
    "        chosen = set(ratings[student].indices)\n",
    "        count = N + len(chosen)\n",
    "        if count < scores.shape[0]:\n",
    "            ids = np.argpartition(scores, -count)[-count:]\n",
    "            best_ids = np.argsort(scores[ids])[::-1]\n",
    "            best = ids[best_ids]\n",
    "        else:\n",
    "            best = np.argsort(scores)[::-1]\n",
    "\n",
    "        top_n = list(islice((rec for rec in best if rec not in chosen), N))\n",
    "        return top_n\n"
   ]
  },
  {
   "cell_type": "markdown",
   "metadata": {},
   "source": [
    "# Define the function to calculate the hit rate and NDCG"
   ]
  },
  {
   "cell_type": "code",
   "execution_count": 12,
   "metadata": {
    "executionInfo": {
     "elapsed": 88,
     "status": "ok",
     "timestamp": 1622450925560,
     "user": {
      "displayName": "Fu Kang",
      "photoUrl": "",
      "userId": "08345650664249871730"
     },
     "user_tz": -120
    },
    "id": "dcfDsBK2OPEq"
   },
   "outputs": [],
   "source": [
    "def hit_rate_cal(model,X_train, X_test,N):\n",
    "    hit = 0\n",
    "    n_students = X_train.shape[0]\n",
    "    recommend_courses = model.recommend(X_train, N)\n",
    "    for student in range(n_students):\n",
    "        test_course = X_test[student].indices\n",
    "        if test_course in recommend_courses[student]:\n",
    "            hit += 1\n",
    "    hit_rate = hit /n_students\n",
    "    return hit_rate"
   ]
  },
  {
   "cell_type": "code",
   "execution_count": 13,
   "metadata": {
    "executionInfo": {
     "elapsed": 93,
     "status": "ok",
     "timestamp": 1622450925569,
     "user": {
      "displayName": "Fu Kang",
      "photoUrl": "",
      "userId": "08345650664249871730"
     },
     "user_tz": -120
    },
    "id": "4mNIMbq4OWSg"
   },
   "outputs": [],
   "source": [
    "def NDCG_cal(model,X_train, X_test,N):\n",
    "    NDCG = 0\n",
    "    n_students = X_train.shape[0]\n",
    "    recommend_courses = model.recommend(X_train, N)\n",
    "    for student in range(n_students):\n",
    "        test_course = X_test[student].indices\n",
    "        if test_course in recommend_courses[student]:\n",
    "            i = np.where(recommend_courses[student] == test_course)[0][0]\n",
    "            if i == 0:\n",
    "                NDCG += 1\n",
    "            else:\n",
    "                NDCG += 1/np.log2(i+1)\n",
    "    NDCG = NDCG /n_students\n",
    "    return NDCG"
   ]
  },
  {
   "cell_type": "markdown",
   "metadata": {},
   "source": [
    "# Evaluate the model"
   ]
  },
  {
   "cell_type": "markdown",
   "metadata": {},
   "source": [
    "### Find the relationship between hit rate and the number of latent dimension"
   ]
  },
  {
   "cell_type": "code",
   "execution_count": null,
   "metadata": {
    "colab": {
     "base_uri": "https://localhost:8080/"
    },
    "executionInfo": {
     "elapsed": 1062,
     "status": "ok",
     "timestamp": 1622399103180,
     "user": {
      "displayName": "Fu Kang",
      "photoUrl": "",
      "userId": "08345650664249871730"
     },
     "user_tz": -120
    },
    "id": "kHNhAp3xR5ci",
    "outputId": "c1410d7a-d095-451b-edb8-42362575dd11"
   },
   "outputs": [
    {
     "name": "stderr",
     "output_type": "stream",
     "text": [
      "BPR: 100%|██████████| 160/160 [06:33<00:00,  2.46s/it]\n",
      "BPR: 100%|██████████| 160/160 [06:33<00:00,  2.46s/it]\n",
      "BPR: 100%|██████████| 160/160 [06:32<00:00,  2.45s/it]\n",
      "BPR: 100%|██████████| 160/160 [06:34<00:00,  2.46s/it]\n",
      "BPR: 100%|██████████| 160/160 [06:39<00:00,  2.50s/it]\n",
      "BPR: 100%|██████████| 160/160 [06:39<00:00,  2.50s/it]\n",
      "BPR: 100%|██████████| 160/160 [06:44<00:00,  2.53s/it]\n",
      "BPR: 100%|██████████| 160/160 [06:46<00:00,  2.54s/it]\n"
     ]
    },
    {
     "data": {
      "text/plain": [
       "[0.1491973102320228,\n",
       " 0.15335312291755013,\n",
       " 0.1505300781486642,\n",
       " 0.14271521172835766,\n",
       " 0.13131398800508876,\n",
       " 0.12508632701278247,\n",
       " 0.12393530017568305,\n",
       " 0.13251347913006603]"
      ]
     },
     "execution_count": 13,
     "metadata": {
      "tags": []
     },
     "output_type": "execute_result"
    }
   ],
   "source": [
    "hit_rate = []\n",
    "for i in range(10,81,10):\n",
    "    bpr_params = {'reg': 0.01,\n",
    "              'learning_rate': 0.2,\n",
    "              'n_iters': 160,\n",
    "              'n_factors': i,\n",
    "              'batch_size': 100}\n",
    "    bpr = BPR(**bpr_params)\n",
    "    bpr.fit(X_train)\n",
    "    hit_rate.append(hit_rate_cal(bpr,X_train, X_test,10))\n",
    "hit_rate"
   ]
  },
  {
   "cell_type": "markdown",
   "metadata": {},
   "source": [
    "### Find the relationship between NDCG and the number of latent dimension"
   ]
  },
  {
   "cell_type": "code",
   "execution_count": null,
   "metadata": {
    "colab": {
     "base_uri": "https://localhost:8080/"
    },
    "executionInfo": {
     "elapsed": 3371296,
     "status": "ok",
     "timestamp": 1622415186145,
     "user": {
      "displayName": "Fu Kang",
      "photoUrl": "",
      "userId": "08345650664249871730"
     },
     "user_tz": -120
    },
    "id": "tA8xQzs2cRzV",
    "outputId": "8b7718c1-8fb1-419b-f701-ee31b9eee1ac"
   },
   "outputs": [
    {
     "name": "stderr",
     "output_type": "stream",
     "text": [
      "BPR: 100%|██████████| 160/160 [06:28<00:00,  2.43s/it]\n",
      "BPR: 100%|██████████| 160/160 [06:29<00:00,  2.43s/it]\n",
      "BPR: 100%|██████████| 160/160 [06:31<00:00,  2.45s/it]\n",
      "BPR: 100%|██████████| 160/160 [06:36<00:00,  2.48s/it]\n",
      "BPR: 100%|██████████| 160/160 [06:41<00:00,  2.51s/it]\n",
      "BPR: 100%|██████████| 160/160 [06:41<00:00,  2.51s/it]\n",
      "BPR: 100%|██████████| 160/160 [06:42<00:00,  2.52s/it]\n",
      "BPR: 100%|██████████| 160/160 [06:44<00:00,  2.53s/it]\n"
     ]
    },
    {
     "data": {
      "text/plain": [
       "[0.08430180938066924,\n",
       " 0.08687534561515821,\n",
       " 0.09629560625117531,\n",
       " 0.07371647078542436,\n",
       " 0.08960175124571808,\n",
       " 0.07815336074488172,\n",
       " 0.07853411779639283,\n",
       " 0.0746160539647747]"
      ]
     },
     "execution_count": 14,
     "metadata": {
      "tags": []
     },
     "output_type": "execute_result"
    }
   ],
   "source": [
    "ndcg = []\n",
    "for i in range(10,81,10):\n",
    "    bpr_params = {'reg': 0.01,\n",
    "              'learning_rate': 0.2,\n",
    "              'n_iters': 160,\n",
    "              'n_factors': i,\n",
    "              'batch_size': 100}\n",
    "    bpr = BPR(**bpr_params)\n",
    "    bpr.fit(X_train)\n",
    "    ndcg.append(NDCG_cal(bpr,X_train, X_test,10))\n",
    "ndcg"
   ]
  },
  {
   "cell_type": "markdown",
   "metadata": {},
   "source": [
    "### Find the relationship between NDCG and the number of recommended courses"
   ]
  },
  {
   "cell_type": "code",
   "execution_count": 14,
   "metadata": {
    "colab": {
     "base_uri": "https://localhost:8080/"
    },
    "executionInfo": {
     "elapsed": 731396,
     "status": "ok",
     "timestamp": 1622449312295,
     "user": {
      "displayName": "Fu Kang",
      "photoUrl": "",
      "userId": "08345650664249871730"
     },
     "user_tz": -120
    },
    "id": "pndCxboPZ_rB",
    "outputId": "bbefc484-1cfa-408e-eea4-7d7716773e40"
   },
   "outputs": [
    {
     "name": "stderr",
     "output_type": "stream",
     "text": [
      "BPR: 100%|██████████| 160/160 [07:12<00:00,  2.70s/it]\n"
     ]
    },
    {
     "data": {
      "text/plain": [
       "[0.07101090603124147,\n",
       " 0.075730852440463,\n",
       " 0.07950720536612653,\n",
       " 0.08267757753146958,\n",
       " 0.08537986950321003,\n",
       " 0.08781991393404849,\n",
       " 0.0900158749942224,\n",
       " 0.0921923971605701,\n",
       " 0.09405215691964033,\n",
       " 0.0960219886539096,\n",
       " 0.09763771690163396]"
      ]
     },
     "execution_count": 14,
     "metadata": {
      "tags": []
     },
     "output_type": "execute_result"
    }
   ],
   "source": [
    "cutoff = []\n",
    "bpr_params = {'reg': 0.01,\n",
    "            'learning_rate': 0.2,\n",
    "            'n_iters': 160,\n",
    "            'n_factors': 30,\n",
    "            'batch_size': 100}\n",
    "bpr = BPR(**bpr_params)\n",
    "bpr.fit(X_train)\n",
    "for N in range(5,16):\n",
    "    cutoff.append(NDCG_cal(bpr,X_train, X_test,N))\n",
    "cutoff"
   ]
  },
  {
   "cell_type": "markdown",
   "metadata": {},
   "source": [
    "### Find the relationship between hit rate and the number of recommended courses"
   ]
  },
  {
   "cell_type": "code",
   "execution_count": 13,
   "metadata": {
    "colab": {
     "base_uri": "https://localhost:8080/"
    },
    "executionInfo": {
     "elapsed": 267467,
     "status": "ok",
     "timestamp": 1622451664847,
     "user": {
      "displayName": "Fu Kang",
      "photoUrl": "",
      "userId": "08345650664249871730"
     },
     "user_tz": -120
    },
    "id": "PTdYwHA9hCC4",
    "outputId": "bb6c2afe-45ad-49e9-8dbf-7f7c25f4f3fd"
   },
   "outputs": [
    {
     "name": "stderr",
     "output_type": "stream",
     "text": [
      "BPR: 100%|██████████| 160/160 [07:15<00:00,  2.72s/it]\n"
     ]
    },
    {
     "data": {
      "text/plain": [
       "[0.0898406736536015,\n",
       " 0.10113285272914521,\n",
       " 0.1110922638880475,\n",
       " 0.12043375537650694,\n",
       " 0.12874538074756164,\n",
       " 0.13739625613376144,\n",
       " 0.14599866723208335,\n",
       " 0.15289271218271036,\n",
       " 0.16035621251590235,\n",
       " 0.1676864360574302,\n",
       " 0.17514993639062215]"
      ]
     },
     "execution_count": 13,
     "metadata": {
      "tags": []
     },
     "output_type": "execute_result"
    }
   ],
   "source": [
    "cutoff_HIT = []\n",
    "bpr_params = {'reg': 0.01,\n",
    "            'learning_rate': 0.2,\n",
    "            'n_iters': 160,\n",
    "            'n_factors': 30,\n",
    "            'batch_size': 100}\n",
    "bpr = BPR(**bpr_params)\n",
    "bpr.fit(X_train)\n",
    "for N in range(5,16):\n",
    "    cutoff_HIT.append(hit_rate_cal(bpr,X_train, X_test,N))\n",
    "cutoff_HIT"
   ]
  }
 ],
 "metadata": {
  "accelerator": "GPU",
  "colab": {
   "collapsed_sections": [],
   "name": "model_data_preprocessing.ipynb",
   "provenance": []
  },
  "kernelspec": {
   "display_name": "Python 3",
   "language": "python",
   "name": "python3"
  },
  "language_info": {
   "codemirror_mode": {
    "name": "ipython",
    "version": 3
   },
   "file_extension": ".py",
   "mimetype": "text/x-python",
   "name": "python",
   "nbconvert_exporter": "python",
   "pygments_lexer": "ipython3",
   "version": "3.8.5"
  }
 },
 "nbformat": 4,
 "nbformat_minor": 4
}
